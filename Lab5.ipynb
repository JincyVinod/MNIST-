{
  "nbformat": 4,
  "nbformat_minor": 0,
  "metadata": {
    "colab": {
      "provenance": []
    },
    "kernelspec": {
      "name": "python3",
      "display_name": "Python 3"
    },
    "language_info": {
      "name": "python"
    }
  },
  "cells": [
    {
      "cell_type": "code",
      "source": [
        "# Common imports\n",
        "import numpy as np\n",
        "import os\n",
        "\n",
        "# to make this notebook's output stable across runs\n",
        "np.random.seed(42)\n",
        "\n",
        "# To plot pretty figures\n",
        "import matplotlib\n",
        "import matplotlib.pyplot as plt\n",
        "from sklearn.svm import SVC\n",
        "from sklearn import datasets\n",
        "#Instead of using load_mnist, fetch_open_data can be used to load mnist dataset\n",
        "from sklearn.datasets import fetch_openml\n",
        "mnist = fetch_openml('mnist_784', version=1, as_frame=False)\n"
      ],
      "metadata": {
        "id": "hC1e9DZpie2u"
      },
      "execution_count": 2,
      "outputs": []
    },
    {
      "cell_type": "code",
      "execution_count": 3,
      "metadata": {
        "id": "NlhutT5CfAwp"
      },
      "outputs": [],
      "source": [
        "X, y = mnist[\"data\"], mnist[\"target\"]\n",
        "y = y.astype(np.uint8)"
      ]
    },
    {
      "cell_type": "code",
      "source": [
        "from sklearn.model_selection import train_test_split\n",
        "# Split into training and test sets\n",
        "X_train, X_test, y_train, y_test = train_test_split(X, y, test_size=0.2, random_state=42)\n"
      ],
      "metadata": {
        "id": "Hgli99lqkiti"
      },
      "execution_count": 4,
      "outputs": []
    },
    {
      "cell_type": "code",
      "source": [
        "from sklearn.preprocessing import StandardScaler\n",
        "scaler = StandardScaler()\n",
        "X_train_scaled = scaler.fit_transform(X_train.astype(np.float32))\n",
        "X_test_scaled = scaler.transform(X_test.astype(np.float32))\n"
      ],
      "metadata": {
        "id": "kX7CaYOilLgy"
      },
      "execution_count": 5,
      "outputs": []
    },
    {
      "cell_type": "code",
      "source": [
        "from sklearn.metrics import confusion_matrix, accuracy_score\n",
        "# Train the SVM classifier\n",
        "svm_clf = SVC(kernel='rbf', gamma='scale', C=5)  # You can adjust kernel and hyperparameters\n",
        "svm_clf.fit(X_train_scaled, y_train)\n",
        "# Make predictions on the test set\n",
        "y_pred = svm_clf.predict(X_test_scaled)\n",
        "accuracy = accuracy_score(y_test, y_pred)\n",
        "print(f\"Accuracy: {accuracy}\")"
      ],
      "metadata": {
        "colab": {
          "base_uri": "https://localhost:8080/"
        },
        "id": "17j4d5UpoA5_",
        "outputId": "4ff9f56a-9791-40fd-b572-42aa7f66cf49"
      },
      "execution_count": 6,
      "outputs": [
        {
          "output_type": "stream",
          "name": "stdout",
          "text": [
            "Accuracy: 0.9698571428571429\n"
          ]
        }
      ]
    },
    {
      "cell_type": "markdown",
      "source": [
        "Linear"
      ],
      "metadata": {
        "id": "1Gl0HDBQNZSs"
      }
    },
    {
      "cell_type": "code",
      "source": [
        "from sklearn.svm import LinearSVC # Import the LinearSVC class\n",
        "import numpy as np # imports numpy\n",
        "from sklearn.metrics import accuracy_score, precision_score, recall_score, f1_score\n",
        "\n",
        "svm_classifier = SVC(kernel='linear')\n",
        "svm_classifier.fit(X_train_scaled, y_train)\n",
        "y_pred = svm_classifier.predict(X_test_scaled)\n",
        "accuracy = accuracy_score(y_test, y_pred)\n",
        "print(f\"Accuracy: {accuracy}\")\n",
        "\n",
        "accuracy_linear = accuracy_score(y_test, y_pred)\n",
        "precision_linear = precision_score(y_test, y_pred, average='macro')\n",
        "recall_linear = recall_score(y_test, y_pred, average='macro')\n",
        "f1_linear = f1_score(y_test, y_pred, average='macro')\n",
        "\n",
        "print(\"Linear Kernel - Accuracy:\", accuracy_linear)\n",
        "print(\"Linear Kernel - Precision:\", precision_linear)\n",
        "print(\"Linear Kernel - Recall:\", recall_linear)\n",
        "print(\"Linear Kernel - F1 Score:\", f1_linear)"
      ],
      "metadata": {
        "id": "XTKdK7e-sVCI",
        "colab": {
          "base_uri": "https://localhost:8080/"
        },
        "outputId": "90d1c0ab-83aa-40b7-849d-4af061fdbce1"
      },
      "execution_count": 7,
      "outputs": [
        {
          "output_type": "stream",
          "name": "stdout",
          "text": [
            "Accuracy: 0.9210714285714285\n",
            "Linear Kernel - Accuracy: 0.9210714285714285\n",
            "Linear Kernel - Precision: 0.920387987730104\n",
            "Linear Kernel - Recall: 0.9200062475583716\n",
            "Linear Kernel - F1 Score: 0.9199026609592815\n"
          ]
        }
      ]
    },
    {
      "cell_type": "code",
      "source": [
        "from sklearn.model_selection import RandomizedSearchCV\n",
        "from scipy.stats import reciprocal, uniform\n",
        "svm_classifier = SVC(kernel=\"linear\")\n",
        "# Define the parameter distribution for Randomized Search\n",
        "\n",
        "param_distributions = {\"C\": uniform(1, 10)}\n",
        "rnd_search_cv = RandomizedSearchCV(svm_classifier, param_distributions, n_iter=10, verbose=2, cv=3)\n",
        "rnd_search_cv.fit(X_train_scaled[:6000], y_train[:6000])\n",
        "print(\"best estimator\", rnd_search_cv.best_estimator_)\n",
        "print(f\"Accuracy\", rnd_search_cv.best_score_)\n"
      ],
      "metadata": {
        "id": "u6Koa0BHDzLc",
        "colab": {
          "base_uri": "https://localhost:8080/"
        },
        "outputId": "4fdf1120-dcc3-4008-f079-7fc9c2fc8df9"
      },
      "execution_count": 10,
      "outputs": [
        {
          "output_type": "stream",
          "name": "stdout",
          "text": [
            "Fitting 3 folds for each of 10 candidates, totalling 30 fits\n",
            "[CV] END ................................C=1.343885211152184; total time=   2.2s\n",
            "[CV] END ................................C=1.343885211152184; total time=   3.2s\n",
            "[CV] END ................................C=1.343885211152184; total time=   3.2s\n",
            "[CV] END ...............................C=10.093204020787821; total time=   4.8s\n",
            "[CV] END ...............................C=10.093204020787821; total time=   2.4s\n",
            "[CV] END ...............................C=10.093204020787821; total time=   2.2s\n",
            "[CV] END ................................C=3.587799816000169; total time=   2.2s\n",
            "[CV] END ................................C=3.587799816000169; total time=   2.2s\n",
            "[CV] END ................................C=3.587799816000169; total time=   2.4s\n",
            "[CV] END .................................C=7.62522284353982; total time=   3.0s\n",
            "[CV] END .................................C=7.62522284353982; total time=   2.3s\n",
            "[CV] END .................................C=7.62522284353982; total time=   2.1s\n",
            "[CV] END .................................C=4.11711076089411; total time=   2.3s\n",
            "[CV] END .................................C=4.11711076089411; total time=   2.1s\n",
            "[CV] END .................................C=4.11711076089411; total time=   2.4s\n",
            "[CV] END ................................C=6.200680211778108; total time=   4.8s\n",
            "[CV] END ................................C=6.200680211778108; total time=   3.0s\n",
            "[CV] END ................................C=6.200680211778108; total time=   3.1s\n",
            "[CV] END ...............................C=6.4671027934327965; total time=   3.8s\n",
            "[CV] END ...............................C=6.4671027934327965; total time=   7.5s\n",
            "[CV] END ...............................C=6.4671027934327965; total time=   5.5s\n",
            "[CV] END ...............................C=2.8485445552552706; total time=   5.5s\n",
            "[CV] END ...............................C=2.8485445552552706; total time=   2.9s\n",
            "[CV] END ...............................C=2.8485445552552706; total time=   2.9s\n",
            "[CV] END ...............................C=10.695846277645586; total time=   3.2s\n",
            "[CV] END ...............................C=10.695846277645586; total time=   5.3s\n",
            "[CV] END ...............................C=10.695846277645586; total time=   2.3s\n",
            "[CV] END ................................C=8.751328233611146; total time=   2.2s\n",
            "[CV] END ................................C=8.751328233611146; total time=   2.2s\n",
            "[CV] END ................................C=8.751328233611146; total time=   2.2s\n",
            "best estimator SVC(C=1.343885211152184, kernel='linear')\n",
            "Accuracy 0.9065\n"
          ]
        }
      ]
    },
    {
      "cell_type": "markdown",
      "source": [
        "RBF"
      ],
      "metadata": {
        "id": "L7KB0Tn8VMU7"
      }
    },
    {
      "cell_type": "code",
      "source": [
        "from sklearn.model_selection import RandomizedSearchCV\n",
        "from scipy.stats import reciprocal, uniform\n",
        "svm_classifier = SVC(kernel=\"rbf\")\n",
        "# Define the parameter distribution for Randomized Search\n",
        "# The param_distributions should be a dictionary, not a set containing a dictionary\n",
        "param_distributions = {\n",
        "    \"gamma\": reciprocal(0.001, 0.1),\n",
        "    \"C\": uniform(1, 10)\n",
        "}\n",
        "rbf_rnd_search_cv = RandomizedSearchCV(svm_classifier, param_distributions, n_iter=10, verbose=2, cv=3, random_state=42)\n",
        "rbf_rnd_search_cv.fit(X_train_scaled[:6000], y_train[:6000])\n",
        "best_rbf = rbf_rnd_search_cv.best_estimator_\n",
        "y_pred_rbf = best_rbf.predict(X_test_scaled)\n",
        "\n",
        "# Calculate performance metrics\n",
        "accuracy_rbf = accuracy_score(y_test, y_pred_rbf)\n",
        "precision_rbf = precision_score(y_test, y_pred_rbf, average='macro')\n",
        "recall_rbf = recall_score(y_test, y_pred_rbf, average='macro')\n",
        "f1_rbf = f1_score(y_test, y_pred_rbf, average='macro')\n",
        "\n",
        "print(\"RBF Kernel - Accuracy:\", accuracy_rbf)\n",
        "print(\"RBF Kernel - Precision:\", precision_rbf)\n",
        "print(\"RBF Kernel - Recall:\", recall_rbf)\n",
        "print(\"RBF Kernel - F1 Score:\", f1_rbf)"
      ],
      "metadata": {
        "id": "DutjsmpKNma0",
        "colab": {
          "base_uri": "https://localhost:8080/"
        },
        "outputId": "5a852f16-6eb9-4cdd-b9c9-2fd37c490bfa"
      },
      "execution_count": 9,
      "outputs": [
        {
          "output_type": "stream",
          "name": "stdout",
          "text": [
            "Fitting 3 folds for each of 10 candidates, totalling 30 fits\n",
            "[CV] END .....C=4.745401188473625, gamma=0.07969454818643935; total time=  19.8s\n",
            "[CV] END .....C=4.745401188473625, gamma=0.07969454818643935; total time=  18.8s\n",
            "[CV] END .....C=4.745401188473625, gamma=0.07969454818643935; total time=  19.4s\n",
            "[CV] END .....C=8.31993941811405, gamma=0.015751320499779727; total time=  18.1s\n",
            "[CV] END .....C=8.31993941811405, gamma=0.015751320499779727; total time=  17.5s\n",
            "[CV] END .....C=8.31993941811405, gamma=0.015751320499779727; total time=  17.7s\n",
            "[CV] END ....C=2.560186404424365, gamma=0.002051110418843397; total time=   8.9s\n",
            "[CV] END ....C=2.560186404424365, gamma=0.002051110418843397; total time=   8.5s\n",
            "[CV] END ....C=2.560186404424365, gamma=0.002051110418843397; total time=   7.8s\n",
            "[CV] END ....C=1.5808361216819946, gamma=0.05399484409787434; total time=  18.3s\n",
            "[CV] END ....C=1.5808361216819946, gamma=0.05399484409787434; total time=  19.5s\n",
            "[CV] END ....C=1.5808361216819946, gamma=0.05399484409787434; total time=  17.8s\n",
            "[CV] END .....C=7.011150117432088, gamma=0.02607024758370768; total time=  17.5s\n",
            "[CV] END .....C=7.011150117432088, gamma=0.02607024758370768; total time=  17.4s\n",
            "[CV] END .....C=7.011150117432088, gamma=0.02607024758370768; total time=  17.6s\n",
            "[CV] END ....C=1.2058449429580245, gamma=0.08706020878304858; total time=  17.3s\n",
            "[CV] END ....C=1.2058449429580245, gamma=0.08706020878304858; total time=  17.4s\n",
            "[CV] END ....C=1.2058449429580245, gamma=0.08706020878304858; total time=  17.8s\n",
            "[CV] END ...C=9.324426408004218, gamma=0.0026587543983272706; total time=   9.4s\n",
            "[CV] END ...C=9.324426408004218, gamma=0.0026587543983272706; total time=   9.6s\n",
            "[CV] END ...C=9.324426408004218, gamma=0.0026587543983272706; total time=   9.5s\n",
            "[CV] END ....C=2.818249672071006, gamma=0.002327067708383781; total time=   8.4s\n",
            "[CV] END ....C=2.818249672071006, gamma=0.002327067708383781; total time=   9.0s\n",
            "[CV] END ....C=2.818249672071006, gamma=0.002327067708383781; total time=   8.6s\n",
            "[CV] END .....C=4.042422429595377, gamma=0.01120760621186057; total time=  16.7s\n",
            "[CV] END .....C=4.042422429595377, gamma=0.01120760621186057; total time=  15.9s\n",
            "[CV] END .....C=4.042422429595377, gamma=0.01120760621186057; total time=  16.1s\n",
            "[CV] END ...C=5.319450186421157, gamma=0.0038234752246751854; total time=  12.3s\n",
            "[CV] END ...C=5.319450186421157, gamma=0.0038234752246751854; total time=  11.9s\n",
            "[CV] END ...C=5.319450186421157, gamma=0.0038234752246751854; total time=  11.2s\n",
            "RBF Kernel - Accuracy: 0.9300714285714285\n",
            "RBF Kernel - Precision: 0.9337574310716843\n",
            "RBF Kernel - Recall: 0.9293273134190183\n",
            "RBF Kernel - F1 Score: 0.9303409987391978\n"
          ]
        }
      ]
    },
    {
      "cell_type": "code",
      "source": [
        "from sklearn.svm import LinearSVC, SVC # Import the LinearSVC class\n",
        "import numpy as np # imports numpy\n",
        "svm_classifier = SVC(kernel='poly')\n",
        "svm_classifier.fit(X_train_scaled, y_train)\n",
        "y_pred = svm_classifier.predict(X_test_scaled)\n",
        "accuracy = accuracy_score(y_test, y_pred)\n",
        "print(f\"Accuracy: {accuracy}\")"
      ],
      "metadata": {
        "id": "a6sJJ427Uniw",
        "colab": {
          "base_uri": "https://localhost:8080/"
        },
        "outputId": "998f5109-1171-4190-c938-0806575daae3"
      },
      "execution_count": 15,
      "outputs": [
        {
          "output_type": "stream",
          "name": "stdout",
          "text": [
            "Accuracy: 0.9613571428571429\n"
          ]
        }
      ]
    },
    {
      "cell_type": "code",
      "source": [
        "from sklearn.model_selection import RandomizedSearchCV\n",
        "from scipy.stats import reciprocal, uniform, randint\n",
        "svm_classifier = SVC(kernel=\"poly\")\n",
        "\n",
        "param_distributions = {\n",
        "   'C': uniform(1, 10),         # Uniform distribution for C\n",
        "    'degree': randint(2, 5),     # Randomly choose degree between 2 and 4 (integer)\n",
        "    'coef0': reciprocal(0.01, 10)\n",
        "}\n",
        "poly_rnd_search_cv = RandomizedSearchCV(svm_classifier, param_distributions, n_iter=10, verbose=2, cv=3, random_state=42)\n",
        "poly_rnd_search_cv.fit(X_train_scaled[:6000], y_train[:6000])\n",
        "best_poly = poly_rnd_search_cv.best_estimator_\n",
        "y_pred_poly = best_poly.predict(X_test_scaled)\n",
        "\n",
        "# Calculate performance metrics\n",
        "accuracy_poly = accuracy_score(y_test, y_pred_poly)\n",
        "precision_poly = precision_score(y_test, y_pred_poly, average='macro')\n",
        "recall_poly = recall_score(y_test, y_pred_poly, average='macro')\n",
        "f1_poly = f1_score(y_test, y_pred_poly, average='macro')\n",
        "\n",
        "print(\"Polynomial Kernel - Accuracy:\", accuracy_poly)\n",
        "print(\"Polynomial Kernel - Precision:\", precision_poly)\n",
        "print(\"Polynomial Kernel - Recall:\", recall_poly)\n",
        "print(\"Polynomial Kernel - F1 Score:\", f1_poly)"
      ],
      "metadata": {
        "colab": {
          "base_uri": "https://localhost:8080/"
        },
        "id": "EDdMuwaLdyXL",
        "outputId": "27dc75ca-9d30-4d33-8f11-5cc2d1bd968d"
      },
      "execution_count": 12,
      "outputs": [
        {
          "output_type": "stream",
          "name": "stdout",
          "text": [
            "Fitting 3 folds for each of 10 candidates, totalling 30 fits\n",
            "[CV] END C=4.745401188473625, coef0=7.114476009343421, degree=4; total time=   2.5s\n",
            "[CV] END C=4.745401188473625, coef0=7.114476009343421, degree=4; total time=   2.8s\n",
            "[CV] END C=4.745401188473625, coef0=7.114476009343421, degree=4; total time=   3.3s\n",
            "[CV] END C=8.796910002727692, coef0=0.6173770394704572, degree=3; total time=   3.4s\n",
            "[CV] END C=8.796910002727692, coef0=0.6173770394704572, degree=3; total time=   3.3s\n",
            "[CV] END C=8.796910002727692, coef0=0.6173770394704572, degree=3; total time=   3.9s\n",
            "[CV] END C=2.5599452033620267, coef0=0.014936568554617643, degree=2; total time=   5.9s\n",
            "[CV] END C=2.5599452033620267, coef0=0.014936568554617643, degree=2; total time=   5.3s\n",
            "[CV] END C=2.5599452033620267, coef0=0.014936568554617643, degree=2; total time=   6.3s\n",
            "[CV] END C=7.011150117432088, coef0=1.3311216080736887, degree=3; total time=   2.8s\n",
            "[CV] END C=7.011150117432088, coef0=1.3311216080736887, degree=3; total time=   2.7s\n",
            "[CV] END C=7.011150117432088, coef0=1.3311216080736887, degree=3; total time=   2.8s\n",
            "[CV] END C=1.5641157902710026, coef0=1.4655354118727704, degree=3; total time=   3.4s\n",
            "[CV] END C=1.5641157902710026, coef0=1.4655354118727704, degree=3; total time=   3.0s\n",
            "[CV] END C=1.5641157902710026, coef0=1.4655354118727704, degree=3; total time=   2.8s\n",
            "[CV] END C=3.1233911067827616, coef0=0.035113563139704075, degree=2; total time=   4.7s\n",
            "[CV] END C=3.1233911067827616, coef0=0.035113563139704075, degree=2; total time=   5.6s\n",
            "[CV] END C=3.1233911067827616, coef0=0.035113563139704075, degree=2; total time=   4.7s\n",
            "[CV] END C=7.1748150962771655, coef0=0.6838478430964046, degree=2; total time=   2.7s\n",
            "[CV] END C=7.1748150962771655, coef0=0.6838478430964046, degree=2; total time=   3.3s\n",
            "[CV] END C=7.1748150962771655, coef0=0.6838478430964046, degree=2; total time=   4.1s\n",
            "[CV] END C=5.319450186421157, coef0=0.07476312062252301, degree=4; total time=   8.1s\n",
            "[CV] END C=5.319450186421157, coef0=0.07476312062252301, degree=4; total time=   8.7s\n",
            "[CV] END C=5.319450186421157, coef0=0.07476312062252301, degree=4; total time=   7.7s\n",
            "[CV] END C=4.998609717152554, coef0=0.013803746963532811, degree=4; total time=  10.4s\n",
            "[CV] END C=4.998609717152554, coef0=0.013803746963532811, degree=4; total time=  10.6s\n",
            "[CV] END C=4.998609717152554, coef0=0.013803746963532811, degree=4; total time=  10.1s\n",
            "[CV] END C=5.56069984217036, coef0=2.267398652378039, degree=4; total time=   2.9s\n",
            "[CV] END C=5.56069984217036, coef0=2.267398652378039, degree=4; total time=   2.7s\n",
            "[CV] END C=5.56069984217036, coef0=2.267398652378039, degree=4; total time=   2.9s\n",
            "Polynomial Kernel - Accuracy: 0.9530714285714286\n",
            "Polynomial Kernel - Precision: 0.9529223206739064\n",
            "Polynomial Kernel - Recall: 0.9527577477700001\n",
            "Polynomial Kernel - F1 Score: 0.9528068781347873\n"
          ]
        }
      ]
    },
    {
      "cell_type": "code",
      "source": [
        "import matplotlib.pyplot as plt\n",
        "import numpy as np\n",
        "\n",
        "# Data\n",
        "kernels = ['Linear Kernel', 'RBF Kernel', 'Polynomial Kernel']\n",
        "accuracy = [0.9210714285714285, 0.9300714285714285, 0.9530714285714286]\n",
        "precision = [0.920387987730104, 0.9337574310716843, 0.9529223206739064]\n",
        "recall = [0.9200062475583716, 0.9293273134190183, 0.9527577477700001]\n",
        "f1_score = [0.9199026609592815, 0.9303409987391978, 0.9528068781347873]\n",
        "\n",
        "# Create an array for the x locations of the groups\n",
        "x = np.arange(len(kernels))\n",
        "\n",
        "# Set the width of the bars\n",
        "width = 0.2\n",
        "\n",
        "# Create subplots\n",
        "fig, ax = plt.subplots(figsize=(10, 6))\n",
        "\n",
        "# Plotting the bars with colors\n",
        "bars1 = ax.bar(x - width * 1.5, accuracy, width, label='Accuracy', color='lightblue')\n",
        "bars2 = ax.bar(x - width / 2, precision, width, label='Precision', color='lightpink')\n",
        "bars3 = ax.bar(x + width / 2, recall, width, label='Recall', color='lightcoral')\n",
        "bars4 = ax.bar(x + width * 1.5, f1_score, width, label='F1 Score', color='gray')\n",
        "\n",
        "# Adding labels and title\n",
        "ax.set_xlabel('Kernels')\n",
        "ax.set_ylabel('Scores')\n",
        "ax.set_title('Comparison of Classifier Metrics by Kernel')\n",
        "ax.set_xticks(x)\n",
        "ax.set_xticklabels(kernels)\n",
        "\n",
        "# Adjust the legend position\n",
        "ax.legend(bbox_to_anchor=(1.05, 1), loc='upper left')\n",
        "\n",
        "# Adding value labels on top of the bars\n",
        "def add_value_labels(bars):\n",
        "    for bar in bars:\n",
        "        height = bar.get_height()\n",
        "        ax.annotate(f'{height:.3f}',\n",
        "                    xy=(bar.get_x() + bar.get_width() / 2, height),\n",
        "                    xytext=(0, 3),  # 3 points vertical offset\n",
        "                    textcoords=\"offset points\",\n",
        "                    ha='center', va='bottom')\n",
        "\n",
        "add_value_labels(bars1)\n",
        "add_value_labels(bars2)\n",
        "add_value_labels(bars3)\n",
        "add_value_labels(bars4)\n",
        "\n",
        "# Show plot\n",
        "plt.tight_layout()\n",
        "plt.show()\n"
      ],
      "metadata": {
        "colab": {
          "base_uri": "https://localhost:8080/",
          "height": 607
        },
        "id": "xcHTPLktorCi",
        "outputId": "90a63aba-97ea-4f86-c915-fe3eaae8febb"
      },
      "execution_count": 13,
      "outputs": [
        {
          "output_type": "display_data",
          "data": {
            "text/plain": [
              "<Figure size 1000x600 with 1 Axes>"
            ],
            "image/png": "[encoded data removed]"
          },
          "metadata": {}
        }
      ]
    },
    {
      "cell_type": "code",
      "source": [
        "import numpy as np\n",
        "import pandas as pd\n",
        "from sklearn.datasets import fetch_openml\n",
        "from sklearn.model_selection import train_test_split\n",
        "from sklearn.metrics import accuracy_score, precision_score, recall_score, f1_score\n",
        "from sklearn.neighbors import KNeighborsClassifier\n",
        "import time\n",
        "\n",
        "# Load dataset\n",
        "mnist = fetch_openml('mnist_784', version=1)\n",
        "X, y = mnist['data'], mnist['target']\n",
        "\n",
        "# Split dataset\n",
        "X_train, X_test, y_train, y_test = train_test_split(X, y, test_size=0.2, random_state=42)\n",
        "\n",
        "# KNN Classifier\n",
        "knn_classifier = KNeighborsClassifier()\n",
        "start_time = time.time()  # Start time for training\n",
        "knn_classifier.fit(X_train, y_train)  # Train classifier\n",
        "knn_training_time = time.time() - start_time  # Calculate training time\n",
        "\n",
        "# Predict on test set\n",
        "y_pred_knn = knn_classifier.predict(X_test)\n",
        "\n",
        "# Calculate metrics\n",
        "accuracy_knn = accuracy_score(y_test, y_pred_knn)\n",
        "precision_knn = precision_score(y_test, y_pred_knn, average='macro')\n",
        "recall_knn = recall_score(y_test, y_pred_knn, average='macro')\n",
        "f1_knn = f1_score(y_test, y_pred_knn, average='macro')\n",
        "\n",
        "\n",
        "print(\"KNN Classifier - Accuracy:\", accuracy_knn)\n",
        "print(\"KNN Classifier - Precision:\", precision_knn)\n",
        "print(\"KNN Classifier - Recall:\", recall_knn)\n",
        "print(\"KNN Classifier - F1 Score:\", f1_knn)\n",
        "print(\"Training Time (s):\", knn_training_time)\n"
      ],
      "metadata": {
        "colab": {
          "base_uri": "https://localhost:8080/"
        },
        "id": "XNHtMLzpCn_C",
        "outputId": "32ff2a22-83f4-4587-8656-2ece8f6114be"
      },
      "execution_count": 1,
      "outputs": [
        {
          "output_type": "stream",
          "name": "stdout",
          "text": [
            "KNN Classifier - Accuracy: 0.9700714285714286\n",
            "KNN Classifier - Precision: 0.9706552322744569\n",
            "KNN Classifier - Recall: 0.9696706936506783\n",
            "KNN Classifier - F1 Score: 0.9700278648170999\n",
            "Training Time (s): 0.5603477954864502\n"
          ]
        }
      ]
    },
    {
      "cell_type": "code",
      "source": [
        "from sklearn.linear_model import SGDClassifier\n",
        "\n",
        "# SGD Classifier\n",
        "sgd_classifier = SGDClassifier()\n",
        "start_time = time.time()  # Start time for training\n",
        "sgd_classifier.fit(X_train, y_train)  # Train classifier\n",
        "sgd_training_time = time.time() - start_time  # Calculate training time\n",
        "\n",
        "# Predict on test set\n",
        "y_pred_sgd = sgd_classifier.predict(X_test)\n",
        "\n",
        "# Calculate metrics\n",
        "accuracy_sgd = accuracy_score(y_test, y_pred_sgd)\n",
        "precision_sgd = precision_score(y_test, y_pred_sgd, average='macro')\n",
        "recall_sgd = recall_score(y_test, y_pred_sgd, average='macro')\n",
        "f1_sgd = f1_score(y_test, y_pred_sgd, average='macro')\n",
        "\n",
        "print(\"SGD Classifier - Accuracy:\", accuracy_sgd)\n",
        "print(\"SGD Classifier - Precision:\", precision_sgd)\n",
        "print(\"SGD Classifier - Recall:\", recall_sgd)\n",
        "print(\"SGD Classifier - F1 Score:\", f1_sgd)\n",
        "print(\"Training Time (s):\", sgd_training_time)"
      ],
      "metadata": {
        "colab": {
          "base_uri": "https://localhost:8080/"
        },
        "id": "4heam6QlyGjC",
        "outputId": "994e0ab0-3c32-4a49-f9fb-eec5ed8998c9"
      },
      "execution_count": 17,
      "outputs": [
        {
          "output_type": "stream",
          "name": "stdout",
          "text": [
            "SGD Classifier - Accuracy: 0.8760714285714286\n",
            "SGD Classifier - Precision: 0.8833933106292937\n",
            "SGD Classifier - Recall: 0.8752322803382473\n",
            "SGD Classifier - F1 Score: 0.8764575625537192\n",
            "Training Time (s): 197.95500493049622\n"
          ]
        }
      ]
    },
    {
      "cell_type": "code",
      "source": [
        "from sklearn.ensemble import RandomForestClassifier\n",
        "\n",
        "# Random Forest Classifier\n",
        "rf_classifier = RandomForestClassifier()\n",
        "start_time = time.time()  # Start time for training\n",
        "rf_classifier.fit(X_train, y_train)  # Train classifier\n",
        "rf_training_time = time.time() - start_time  # Calculate training time\n",
        "\n",
        "# Predict on test set\n",
        "y_pred_rf = rf_classifier.predict(X_test)\n",
        "\n",
        "# Calculate metrics\n",
        "accuracy_rf = accuracy_score(y_test, y_pred_rf)\n",
        "precision_rf = precision_score(y_test, y_pred_rf, average='macro')\n",
        "recall_rf = recall_score(y_test, y_pred_rf, average='macro')\n",
        "f1_rf = f1_score(y_test, y_pred_rf, average='macro')\n",
        "\n",
        "print(\"Random Forest Classifier - Accuracy:\", accuracy_rf)\n",
        "print(\"Random Forest Classifier - Precision:\", precision_rf)\n",
        "print(\"Random Forest Classifier - Recall:\", recall_rf)\n",
        "print(\"Random Forest Classifier - F1 Score:\", f1_rf)\n",
        "print(\"Training Time (s):\", rf_training_time)\n"
      ],
      "metadata": {
        "colab": {
          "base_uri": "https://localhost:8080/"
        },
        "id": "Ufw3EXP1y8YD",
        "outputId": "1a1928d0-40e6-43d6-d21c-9d4425a2a7dc"
      },
      "execution_count": 18,
      "outputs": [
        {
          "output_type": "stream",
          "name": "stdout",
          "text": [
            "Random Forest Classifier - Accuracy: 0.9668571428571429\n",
            "Random Forest Classifier - Precision: 0.9666859409332821\n",
            "Random Forest Classifier - Recall: 0.9667211432291444\n",
            "Random Forest Classifier - F1 Score: 0.9666878918509296\n",
            "Training Time (s): 53.63914227485657\n"
          ]
        }
      ]
    },
    {
      "cell_type": "code",
      "source": [
        "from sklearn.svm import SVC\n",
        "\n",
        "# SVM Classifier\n",
        "svm_classifier = SVC(kernel='poly')\n",
        "start_time = time.time()  # Start time for training\n",
        "svm_classifier.fit(X_train, y_train)  # Train classifier\n",
        "training_time_svm = time.time() - start_time  # Calculate training time\n",
        "\n",
        "# Predict on test set\n",
        "y_pred_svm = svm_classifier.predict(X_test)\n",
        "\n",
        "# Calculate metrics\n",
        "accuracy_svm = accuracy_score(y_test, y_pred_svm)\n",
        "precision_svm = precision_score(y_test, y_pred_svm, average='macro')\n",
        "recall_svm = recall_score(y_test, y_pred_svm, average='macro')\n",
        "f1_svm = f1_score(y_test, y_pred_svm, average='macro')\n",
        "\n",
        "print(\"SVM Classifier - Accuracy:\", accuracy_svm)\n",
        "print(\"SVM Classifier - Precision:\", precision_svm)\n",
        "print(\"SVM Classifier - Recall:\", recall_svm)\n",
        "print(\"SVM Classifier - F1 Score:\", f1_svm)\n",
        "print(\"Training Time (s):\", training_time_svm)"
      ],
      "metadata": {
        "colab": {
          "base_uri": "https://localhost:8080/"
        },
        "id": "C42tS9p3CSyz",
        "outputId": "861df73f-ed5a-43eb-ff5e-87757167646f"
      },
      "execution_count": 2,
      "outputs": [
        {
          "output_type": "stream",
          "name": "stdout",
          "text": [
            "SVM Classifier - Accuracy: 0.9739285714285715\n",
            "SVM Classifier - Precision: 0.9740037832827777\n",
            "SVM Classifier - Recall: 0.9737707809786281\n",
            "SVM Classifier - F1 Score: 0.9738427144215536\n",
            "Training Time (s): 290.9013350009918\n"
          ]
        }
      ]
    },
    {
      "cell_type": "code",
      "source": [
        "import matplotlib.pyplot as plt\n",
        "import numpy as np\n",
        "\n",
        "# Classifier results\n",
        "results = {\n",
        "    'KNN': {\n",
        "        'Accuracy': 0.9701,\n",
        "        'Precision': 0.9707,\n",
        "        'Recall': 0.9697,\n",
        "        'F1 Score': 0.9700,\n",
        "        'Training Time (s)': 0.5603\n",
        "    },\n",
        "    'SVM': {\n",
        "        'Accuracy': 0.9739,\n",
        "        'Precision': 0.9740,\n",
        "        'Recall': 0.9738,\n",
        "        'F1 Score': 0.9738,\n",
        "        'Training Time (s)': 290.9013\n",
        "    },\n",
        "    'SGD': {\n",
        "        'Accuracy': 0.8761,\n",
        "        'Precision': 0.8834,\n",
        "        'Recall': 0.8752,\n",
        "        'F1 Score': 0.8765,\n",
        "        'Training Time (s)': 197.9550\n",
        "    },\n",
        "    'Random Forest': {\n",
        "        'Accuracy': 0.9669,\n",
        "        'Precision': 0.9667,\n",
        "        'Recall': 0.9667,\n",
        "        'F1 Score': 0.9667,\n",
        "        'Training Time (s)': 53.6391\n",
        "    }\n",
        "}\n",
        "\n",
        "# Prepare data for plotting\n",
        "classifiers = list(results.keys())\n",
        "accuracy = [results[clf]['Accuracy'] * 100 for clf in classifiers]\n",
        "precision = [results[clf]['Precision'] * 100 for clf in classifiers]\n",
        "recall = [results[clf]['Recall'] * 100 for clf in classifiers]\n",
        "f1_score = [results[clf]['F1 Score'] * 100 for clf in classifiers]\n",
        "\n",
        "# Plotting\n",
        "x = np.arange(len(classifiers))  # the label locations\n",
        "width = 0.2  # the width of the bars\n",
        "\n",
        "fig, ax = plt.subplots(figsize=(12, 6))\n",
        "\n",
        "# Create bars for each metric\n",
        "bars1 = ax.bar(x - width * 1.5, accuracy, width, label='Accuracy', color='skyblue')\n",
        "bars2 = ax.bar(x - width / 2, precision, width, label='Precision', color='lightpink')\n",
        "bars3 = ax.bar(x + width / 2, recall, width, label='Recall', color='lightcoral')\n",
        "bars4 = ax.bar(x + width * 1.5, f1_score, width, label='F1 Score', color='gray')\n",
        "\n",
        "# Add some text for labels, title, and custom x-axis tick labels, etc.\n",
        "ax.set_ylabel('Scores (%)')\n",
        "ax.set_title('Classifier Performance Comparison')\n",
        "ax.set_xticks(x)\n",
        "ax.set_xticklabels(classifiers)\n",
        "\n",
        "# Move the legend to the right side\n",
        "ax.legend(loc='upper left', bbox_to_anchor=(1, 1))\n",
        "\n",
        "# Adding the value labels on top of the bars\n",
        "def add_value_labels(bars):\n",
        "    for bar in bars:\n",
        "        height = bar.get_height()\n",
        "        ax.annotate(f'{height:.2f}',\n",
        "                    xy=(bar.get_x() + bar.get_width() / 2, height),\n",
        "                    xytext=(0, 3),  # 3 points vertical offset\n",
        "                    textcoords=\"offset points\",\n",
        "                    ha='center', va='bottom')\n",
        "\n",
        "# Apply value labels for each set of bars\n",
        "add_value_labels(bars1)\n",
        "add_value_labels(bars2)\n",
        "add_value_labels(bars3)\n",
        "add_value_labels(bars4)\n",
        "\n",
        "plt.tight_layout()  # Adjust layout for better appearance\n",
        "plt.show()  # Display the plot\n"
      ],
      "metadata": {
        "colab": {
          "base_uri": "https://localhost:8080/",
          "height": 607
        },
        "id": "-xPiSWqAXgtN",
        "outputId": "4c25deb6-8718-4137-deee-29d7c418b936"
      },
      "execution_count": 9,
      "outputs": [
        {
          "output_type": "display_data",
          "data": {
            "text/plain": [
              "<Figure size 1200x600 with 1 Axes>"
            ],
            "image/png": "[encoded data removed]"
          },
          "metadata": {}
        }
      ]
    }
  ]
}